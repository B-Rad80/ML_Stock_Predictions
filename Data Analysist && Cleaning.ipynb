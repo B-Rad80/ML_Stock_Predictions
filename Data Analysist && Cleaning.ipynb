{
 "cells": [
  {
   "cell_type": "code",
   "execution_count": 1,
   "metadata": {},
   "outputs": [],
   "source": [
    "import pandas as pd\n",
    "import numpy as np\n",
    "import scipy.stats as stats\n",
    "import matplotlib.pyplot as plt"
   ]
  },
  {
   "cell_type": "code",
   "execution_count": 2,
   "metadata": {},
   "outputs": [
    {
     "data": {
      "text/html": [
       "<div>\n",
       "<style scoped>\n",
       "    .dataframe tbody tr th:only-of-type {\n",
       "        vertical-align: middle;\n",
       "    }\n",
       "\n",
       "    .dataframe tbody tr th {\n",
       "        vertical-align: top;\n",
       "    }\n",
       "\n",
       "    .dataframe thead th {\n",
       "        text-align: right;\n",
       "    }\n",
       "</style>\n",
       "<table border=\"1\" class=\"dataframe\">\n",
       "  <thead>\n",
       "    <tr style=\"text-align: right;\">\n",
       "      <th></th>\n",
       "      <th>Date</th>\n",
       "      <th>Open</th>\n",
       "      <th>High</th>\n",
       "      <th>Low</th>\n",
       "      <th>Close</th>\n",
       "      <th>Volume</th>\n",
       "      <th>Ticker</th>\n",
       "    </tr>\n",
       "  </thead>\n",
       "  <tbody>\n",
       "    <tr>\n",
       "      <th>0</th>\n",
       "      <td>2009-11-17</td>\n",
       "      <td>18.264</td>\n",
       "      <td>18.316</td>\n",
       "      <td>18.249</td>\n",
       "      <td>18.292</td>\n",
       "      <td>373979</td>\n",
       "      <td>bab</td>\n",
       "    </tr>\n",
       "    <tr>\n",
       "      <th>1</th>\n",
       "      <td>2009-11-18</td>\n",
       "      <td>18.273</td>\n",
       "      <td>18.273</td>\n",
       "      <td>18.191</td>\n",
       "      <td>18.214</td>\n",
       "      <td>98147</td>\n",
       "      <td>bab</td>\n",
       "    </tr>\n",
       "    <tr>\n",
       "      <th>2</th>\n",
       "      <td>2009-11-19</td>\n",
       "      <td>18.316</td>\n",
       "      <td>18.316</td>\n",
       "      <td>18.273</td>\n",
       "      <td>18.292</td>\n",
       "      <td>78682</td>\n",
       "      <td>bab</td>\n",
       "    </tr>\n",
       "    <tr>\n",
       "      <th>3</th>\n",
       "      <td>2009-11-20</td>\n",
       "      <td>18.308</td>\n",
       "      <td>18.331</td>\n",
       "      <td>18.226</td>\n",
       "      <td>18.331</td>\n",
       "      <td>132702</td>\n",
       "      <td>bab</td>\n",
       "    </tr>\n",
       "    <tr>\n",
       "      <th>4</th>\n",
       "      <td>2009-11-23</td>\n",
       "      <td>18.264</td>\n",
       "      <td>18.316</td>\n",
       "      <td>18.249</td>\n",
       "      <td>18.249</td>\n",
       "      <td>28563</td>\n",
       "      <td>bab</td>\n",
       "    </tr>\n",
       "  </tbody>\n",
       "</table>\n",
       "</div>"
      ],
      "text/plain": [
       "         Date    Open    High     Low   Close  Volume Ticker\n",
       "0  2009-11-17  18.264  18.316  18.249  18.292  373979    bab\n",
       "1  2009-11-18  18.273  18.273  18.191  18.214   98147    bab\n",
       "2  2009-11-19  18.316  18.316  18.273  18.292   78682    bab\n",
       "3  2009-11-20  18.308  18.331  18.226  18.331  132702    bab\n",
       "4  2009-11-23  18.264  18.316  18.249  18.249   28563    bab"
      ]
     },
     "execution_count": 2,
     "metadata": {},
     "output_type": "execute_result"
    }
   ],
   "source": [
    "df=pd.read_csv(\"Complete.csv\")\n",
    "df.head()"
   ]
  },
  {
   "cell_type": "code",
   "execution_count": 3,
   "metadata": {},
   "outputs": [
    {
     "data": {
      "text/plain": [
       "Date       object\n",
       "Open      float64\n",
       "High      float64\n",
       "Low       float64\n",
       "Close     float64\n",
       "Volume      int64\n",
       "Ticker     object\n",
       "dtype: object"
      ]
     },
     "execution_count": 3,
     "metadata": {},
     "output_type": "execute_result"
    }
   ],
   "source": [
    "df.dtypes"
   ]
  },
  {
   "cell_type": "code",
   "execution_count": 4,
   "metadata": {},
   "outputs": [],
   "source": [
    "df.Date=pd.to_datetime(df.Date)"
   ]
  },
  {
   "cell_type": "code",
   "execution_count": 5,
   "metadata": {},
   "outputs": [
    {
     "data": {
      "text/plain": [
       "<matplotlib.axes._subplots.AxesSubplot at 0x7f890cba6828>"
      ]
     },
     "execution_count": 5,
     "metadata": {},
     "output_type": "execute_result"
    },
    {
     "data": {
      "image/png": "[encoded data removed]",
      "text/plain": [
       "<Figure size 432x288 with 1 Axes>"
      ]
     },
     "metadata": {
      "needs_background": "light"
     },
     "output_type": "display_data"
    }
   ],
   "source": [
    "plt.title(\"Trades per Year\")\n",
    "plt.ylabel(\"Trades\")\n",
    "df[\"Ticker\"].groupby(df[\"Date\"].dt.year).count().plot(kind=\"bar\")"
   ]
  },
  {
   "cell_type": "code",
   "execution_count": 6,
   "metadata": {},
   "outputs": [
    {
     "data": {
      "text/html": [
       "<div>\n",
       "<style scoped>\n",
       "    .dataframe tbody tr th:only-of-type {\n",
       "        vertical-align: middle;\n",
       "    }\n",
       "\n",
       "    .dataframe tbody tr th {\n",
       "        vertical-align: top;\n",
       "    }\n",
       "\n",
       "    .dataframe thead th {\n",
       "        text-align: right;\n",
       "    }\n",
       "</style>\n",
       "<table border=\"1\" class=\"dataframe\">\n",
       "  <thead>\n",
       "    <tr style=\"text-align: right;\">\n",
       "      <th></th>\n",
       "      <th>Date</th>\n",
       "      <th>Open</th>\n",
       "      <th>High</th>\n",
       "      <th>Low</th>\n",
       "      <th>Close</th>\n",
       "      <th>Volume</th>\n",
       "      <th>Ticker</th>\n",
       "    </tr>\n",
       "  </thead>\n",
       "  <tbody>\n",
       "    <tr>\n",
       "      <th>222837</th>\n",
       "      <td>1999-03-10</td>\n",
       "      <td>45.722</td>\n",
       "      <td>45.7500</td>\n",
       "      <td>44.967</td>\n",
       "      <td>45.665</td>\n",
       "      <td>11700414</td>\n",
       "      <td>qqq</td>\n",
       "    </tr>\n",
       "    <tr>\n",
       "      <th>222838</th>\n",
       "      <td>1999-03-11</td>\n",
       "      <td>45.994</td>\n",
       "      <td>46.2600</td>\n",
       "      <td>44.988</td>\n",
       "      <td>45.880</td>\n",
       "      <td>21670048</td>\n",
       "      <td>qqq</td>\n",
       "    </tr>\n",
       "    <tr>\n",
       "      <th>222839</th>\n",
       "      <td>1999-03-12</td>\n",
       "      <td>45.721</td>\n",
       "      <td>45.7490</td>\n",
       "      <td>44.406</td>\n",
       "      <td>44.770</td>\n",
       "      <td>19553768</td>\n",
       "      <td>qqq</td>\n",
       "    </tr>\n",
       "    <tr>\n",
       "      <th>222840</th>\n",
       "      <td>1999-03-15</td>\n",
       "      <td>45.101</td>\n",
       "      <td>46.1030</td>\n",
       "      <td>44.625</td>\n",
       "      <td>46.052</td>\n",
       "      <td>14245348</td>\n",
       "      <td>qqq</td>\n",
       "    </tr>\n",
       "    <tr>\n",
       "      <th>222841</th>\n",
       "      <td>1999-03-16</td>\n",
       "      <td>46.253</td>\n",
       "      <td>46.6430</td>\n",
       "      <td>45.749</td>\n",
       "      <td>46.447</td>\n",
       "      <td>10971066</td>\n",
       "      <td>qqq</td>\n",
       "    </tr>\n",
       "    <tr>\n",
       "      <th>...</th>\n",
       "      <td>...</td>\n",
       "      <td>...</td>\n",
       "      <td>...</td>\n",
       "      <td>...</td>\n",
       "      <td>...</td>\n",
       "      <td>...</td>\n",
       "      <td>...</td>\n",
       "    </tr>\n",
       "    <tr>\n",
       "      <th>491587</th>\n",
       "      <td>2017-11-10</td>\n",
       "      <td>35.620</td>\n",
       "      <td>35.6300</td>\n",
       "      <td>35.500</td>\n",
       "      <td>35.625</td>\n",
       "      <td>15985</td>\n",
       "      <td>ipkw</td>\n",
       "    </tr>\n",
       "    <tr>\n",
       "      <th>1376758</th>\n",
       "      <td>2017-11-10</td>\n",
       "      <td>37.590</td>\n",
       "      <td>37.7200</td>\n",
       "      <td>37.585</td>\n",
       "      <td>37.700</td>\n",
       "      <td>10324</td>\n",
       "      <td>ftls</td>\n",
       "    </tr>\n",
       "    <tr>\n",
       "      <th>2514505</th>\n",
       "      <td>2017-11-10</td>\n",
       "      <td>127.450</td>\n",
       "      <td>127.8200</td>\n",
       "      <td>127.295</td>\n",
       "      <td>127.450</td>\n",
       "      <td>256090</td>\n",
       "      <td>vbr</td>\n",
       "    </tr>\n",
       "    <tr>\n",
       "      <th>1373352</th>\n",
       "      <td>2017-11-10</td>\n",
       "      <td>36.320</td>\n",
       "      <td>36.4900</td>\n",
       "      <td>36.320</td>\n",
       "      <td>36.420</td>\n",
       "      <td>6207</td>\n",
       "      <td>cnxt</td>\n",
       "    </tr>\n",
       "    <tr>\n",
       "      <th>2565577</th>\n",
       "      <td>2017-11-10</td>\n",
       "      <td>44.070</td>\n",
       "      <td>44.0886</td>\n",
       "      <td>43.950</td>\n",
       "      <td>44.040</td>\n",
       "      <td>5202797</td>\n",
       "      <td>vea</td>\n",
       "    </tr>\n",
       "  </tbody>\n",
       "</table>\n",
       "<p>2565578 rows × 7 columns</p>\n",
       "</div>"
      ],
      "text/plain": [
       "              Date     Open      High      Low    Close    Volume Ticker\n",
       "222837  1999-03-10   45.722   45.7500   44.967   45.665  11700414    qqq\n",
       "222838  1999-03-11   45.994   46.2600   44.988   45.880  21670048    qqq\n",
       "222839  1999-03-12   45.721   45.7490   44.406   44.770  19553768    qqq\n",
       "222840  1999-03-15   45.101   46.1030   44.625   46.052  14245348    qqq\n",
       "222841  1999-03-16   46.253   46.6430   45.749   46.447  10971066    qqq\n",
       "...            ...      ...       ...      ...      ...       ...    ...\n",
       "491587  2017-11-10   35.620   35.6300   35.500   35.625     15985   ipkw\n",
       "1376758 2017-11-10   37.590   37.7200   37.585   37.700     10324   ftls\n",
       "2514505 2017-11-10  127.450  127.8200  127.295  127.450    256090    vbr\n",
       "1373352 2017-11-10   36.320   36.4900   36.320   36.420      6207   cnxt\n",
       "2565577 2017-11-10   44.070   44.0886   43.950   44.040   5202797    vea\n",
       "\n",
       "[2565578 rows x 7 columns]"
      ]
     },
     "execution_count": 6,
     "metadata": {},
     "output_type": "execute_result"
    }
   ],
   "source": [
    "df.sort_values(by=[\"Date\"])"
   ]
  },
  {
   "cell_type": "code",
   "execution_count": 9,
   "metadata": {},
   "outputs": [],
   "source": [
    "# declaring the time range of the data\n",
    "begin=2005\n",
    "end=2017\n",
    "start=df[[\"Ticker\",\"Date\"]].loc[df.Date.dt.year==begin]\n",
    "finish=df[[\"Ticker\",\"Date\"]].loc[df.Date.dt.year==end]"
   ]
  },
  {
   "cell_type": "code",
   "execution_count": 18,
   "metadata": {},
   "outputs": [],
   "source": [
    "# filtering down to tickers that existed before 'begin' and are still there when it is 'end'\n",
    "ts,tf=start.Ticker.unique().tolist(),finish.Ticker.unique().tolist()\n",
    "tickers=[i for i in ts if i in tf]"
   ]
  },
  {
   "cell_type": "code",
   "execution_count": 41,
   "metadata": {},
   "outputs": [
    {
     "data": {
      "text/html": [
       "<div>\n",
       "<style scoped>\n",
       "    .dataframe tbody tr th:only-of-type {\n",
       "        vertical-align: middle;\n",
       "    }\n",
       "\n",
       "    .dataframe tbody tr th {\n",
       "        vertical-align: top;\n",
       "    }\n",
       "\n",
       "    .dataframe thead th {\n",
       "        text-align: right;\n",
       "    }\n",
       "</style>\n",
       "<table border=\"1\" class=\"dataframe\">\n",
       "  <thead>\n",
       "    <tr style=\"text-align: right;\">\n",
       "      <th></th>\n",
       "      <th>Ticker</th>\n",
       "      <th>Date</th>\n",
       "    </tr>\n",
       "  </thead>\n",
       "  <tbody>\n",
       "    <tr>\n",
       "      <th>0</th>\n",
       "      <td>bab</td>\n",
       "      <td>2009-11-17</td>\n",
       "    </tr>\n",
       "    <tr>\n",
       "      <th>1</th>\n",
       "      <td>bab</td>\n",
       "      <td>2009-11-18</td>\n",
       "    </tr>\n",
       "    <tr>\n",
       "      <th>2</th>\n",
       "      <td>bab</td>\n",
       "      <td>2009-11-19</td>\n",
       "    </tr>\n",
       "    <tr>\n",
       "      <th>3</th>\n",
       "      <td>bab</td>\n",
       "      <td>2009-11-20</td>\n",
       "    </tr>\n",
       "    <tr>\n",
       "      <th>4</th>\n",
       "      <td>bab</td>\n",
       "      <td>2009-11-23</td>\n",
       "    </tr>\n",
       "    <tr>\n",
       "      <th>...</th>\n",
       "      <td>...</td>\n",
       "      <td>...</td>\n",
       "    </tr>\n",
       "    <tr>\n",
       "      <th>2565573</th>\n",
       "      <td>vea</td>\n",
       "      <td>2017-11-06</td>\n",
       "    </tr>\n",
       "    <tr>\n",
       "      <th>2565574</th>\n",
       "      <td>vea</td>\n",
       "      <td>2017-11-07</td>\n",
       "    </tr>\n",
       "    <tr>\n",
       "      <th>2565575</th>\n",
       "      <td>vea</td>\n",
       "      <td>2017-11-08</td>\n",
       "    </tr>\n",
       "    <tr>\n",
       "      <th>2565576</th>\n",
       "      <td>vea</td>\n",
       "      <td>2017-11-09</td>\n",
       "    </tr>\n",
       "    <tr>\n",
       "      <th>2565577</th>\n",
       "      <td>vea</td>\n",
       "      <td>2017-11-10</td>\n",
       "    </tr>\n",
       "  </tbody>\n",
       "</table>\n",
       "<p>2564116 rows × 2 columns</p>\n",
       "</div>"
      ],
      "text/plain": [
       "        Ticker       Date\n",
       "0          bab 2009-11-17\n",
       "1          bab 2009-11-18\n",
       "2          bab 2009-11-19\n",
       "3          bab 2009-11-20\n",
       "4          bab 2009-11-23\n",
       "...        ...        ...\n",
       "2565573    vea 2017-11-06\n",
       "2565574    vea 2017-11-07\n",
       "2565575    vea 2017-11-08\n",
       "2565576    vea 2017-11-09\n",
       "2565577    vea 2017-11-10\n",
       "\n",
       "[2564116 rows x 2 columns]"
      ]
     },
     "execution_count": 41,
     "metadata": {},
     "output_type": "execute_result"
    }
   ],
   "source": [
    "tlDate=df[[\"Ticker\",\"Date\"]].loc[(df.Date.dt.year>=begin) & (df.Date.dt.year<=end)]\n",
    "tlDate"
   ]
  },
  {
   "cell_type": "code",
   "execution_count": 48,
   "metadata": {},
   "outputs": [
    {
     "name": "stdout",
     "output_type": "stream",
     "text": [
      "['2005-01-03' '2005-01-04' '2005-01-05' ... '2017-11-08' '2017-11-09'\n",
      " '2017-11-10']\n"
     ]
    }
   ],
   "source": [
    "dates=np.array(tlDate.Date.unique(),dtype=\"datetime64[D]\")\n",
    "dates=np.sort(dates,axis=0)\n",
    "print(dates)"
   ]
  },
  {
   "cell_type": "code",
   "execution_count": 51,
   "metadata": {},
   "outputs": [
    {
     "name": "stderr",
     "output_type": "stream",
     "text": [
      "/home/victor/.local/lib/python3.6/site-packages/ipykernel_launcher.py:6: DeprecationWarning: elementwise comparison failed; this will raise an error in the future.\n",
      "  \n"
     ]
    }
   ],
   "source": [
    "ticUse=[]\n",
    "error=0\n",
    "for tic in tickers:\n",
    "    ds=np.array(tlDate.Date.loc[tlDate.Ticker==tic],dtype=\"datetime64[D]\")\n",
    "    try:\n",
    "        if ds==dates:\n",
    "            ticUse.append(ds)\n",
    "    except:\n",
    "        error=ds\n",
    "        break"
   ]
  },
  {
   "cell_type": "code",
   "execution_count": 53,
   "metadata": {},
   "outputs": [
    {
     "name": "stdout",
     "output_type": "stream",
     "text": [
      "3239\n"
     ]
    }
   ],
   "source": [
    "print(len(error))"
   ]
  },
  {
   "cell_type": "code",
   "execution_count": 64,
   "metadata": {},
   "outputs": [
    {
     "name": "stdout",
     "output_type": "stream",
     "text": [
      "3186\n",
      "3201\n",
      "3239\n"
     ]
    }
   ],
   "source": [
    "print(len(tlDate.Date.loc[tlDate.Ticker==tickers[1]]))\n",
    "print(len(tlDate.Date.loc[tlDate.Ticker==tickers[2]]))\n",
    "print(len(dates))"
   ]
  },
  {
   "cell_type": "code",
   "execution_count": 66,
   "metadata": {},
   "outputs": [
    {
     "name": "stderr",
     "output_type": "stream",
     "text": [
      "/home/victor/.local/lib/python3.6/site-packages/ipykernel_launcher.py:1: DeprecationWarning: elementwise comparison failed; this will raise an error in the future.\n",
      "  \"\"\"Entry point for launching an IPython kernel.\n"
     ]
    },
    {
     "data": {
      "text/plain": [
       "False"
      ]
     },
     "execution_count": 66,
     "metadata": {},
     "output_type": "execute_result"
    }
   ],
   "source": [
    "dates==np.array(tlDate.Date.loc[tlDate.Ticker==tickers[1]])"
   ]
  },
  {
   "cell_type": "code",
   "execution_count": 67,
   "metadata": {},
   "outputs": [
    {
     "data": {
      "text/plain": [
       "3186"
      ]
     },
     "execution_count": 67,
     "metadata": {},
     "output_type": "execute_result"
    }
   ],
   "source": [
    "len(np.array(tlDate.Date.loc[tlDate.Ticker==tickers[1]]))"
   ]
  },
  {
   "cell_type": "code",
   "execution_count": 68,
   "metadata": {},
   "outputs": [
    {
     "name": "stdout",
     "output_type": "stream",
     "text": [
      "[]\n"
     ]
    }
   ],
   "source": [
    "print(ticUse)"
   ]
  },
  {
   "cell_type": "code",
   "execution_count": null,
   "metadata": {},
   "outputs": [],
   "source": []
  }
 ],
 "metadata": {
  "kernelspec": {
   "display_name": "Python 3",
   "language": "python",
   "name": "python3"
  },
  "language_info": {
   "codemirror_mode": {
    "name": "ipython",
    "version": 3
   },
   "file_extension": ".py",
   "mimetype": "text/x-python",
   "name": "python",
   "nbconvert_exporter": "python",
   "pygments_lexer": "ipython3",
   "version": "3.6.9"
  }
 },
 "nbformat": 4,
 "nbformat_minor": 4
}
